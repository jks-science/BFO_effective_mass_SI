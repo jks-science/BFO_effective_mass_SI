{
 "cells": [
  {
   "cell_type": "markdown",
   "metadata": {},
   "source": [
    "# Supplementary information - Effective mass in BiFeO<sub>3</sub>"
   ]
  },
  {
   "cell_type": "markdown",
   "metadata": {},
   "source": [
    "<h3 align=\"center\">J. Kane Shenton,<sup>&dagger;</sup><sup>&Dagger;</sup> David R. Bowler<sup>&dagger;</sup><sup>&sect;</sup> and Wei Li Cheah<sup>&Dagger;</sup></h3>\n",
    "\n",
    "\n",
    "\n",
    "*<sup>&dagger;</sup> Department of Physics & Astronomy, University College London,Gower St, London, WC1E 6BT*  \n",
    "*<sup>&sect;</sup>UCL Satellite, International Centre for Materials Nanoarchitectonics (MANA), National Institute for Materials Science (NIMS), 1-1 Namiki, Tsukuba, Ibaraki 305-0044, Japan*  \n",
    "*<sup>&sect;</sup> London Centre for Nanotechnology, 17-19 Gordon St, London, WC1H 0AH*  \n",
    "*<sup>&Dagger;</sup> Institute of High Performance Computing, A-STAR, Singapore* "
   ]
  },
  {
   "cell_type": "markdown",
   "metadata": {
    "ExecuteTime": {
     "end_time": "2017-12-08T15:03:48.954104Z",
     "start_time": "2017-12-08T15:03:48.769519Z"
    }
   },
   "source": [
    "## List of figures\n",
    "\n",
    "* [S1: KS orbitals at conduction band minimum](#fig-s1)\n",
    "* [S2: Projected bands and DOS w.r.t. hydrostatic strain](#fig-s2)\n",
    "* [S3: Effective mass w.r.t. hydrostatic strain](#fig-s3)\n",
    "* [S4: Effective mass w.r.t. octahedral rotation](#fig-s4)\n",
    "* [S5: Electronic band gap w.r.t. octahedral rotation](#fig-s5)\n",
    "* [S6: Projected bands and DOS w.r.t. octahedral rotation (with and without SOC)](#fig-s6)\n",
    "* [S7: Lowest unoccupied and highest occupied KS orbitals w.r.t. octahedral rotation ](#fig-s7)\n",
    "* [S8: Projected bands and DOS w.r.t. octahedral translations ](#fig-s8)\n",
    "* [S9: Effective mass w.r.t. octahedral translation](#fig-s9)\n",
    "* [S10: Electronic band gap w.r.t. octahedral translation](#fig-s10)\n"
   ]
  },
  {
   "cell_type": "code",
   "execution_count": 10,
   "metadata": {
    "ExecuteTime": {
     "end_time": "2018-03-14T12:56:02.470992Z",
     "start_time": "2018-03-14T12:56:02.418615Z"
    },
    "code_folding": [
     15,
     22
    ]
   },
   "outputs": [],
   "source": [
    "from pymatgen.io.vasp import Vasprun\n",
    "from pymatgen.io.vasp import Poscar\n",
    "from pymatgen.electronic_structure.core import Spin, OrbitalType\n",
    "from pymatgen import periodic_table\n",
    "elementBi = periodic_table.Element(\"Bi\")\n",
    "elementFe = periodic_table.Element(\"Fe\")\n",
    "elementO  = periodic_table.Element(\"O\")\n",
    "\n",
    "import numpy as np\n",
    "import math\n",
    "import re\n",
    "from tabulate import tabulate\n",
    "import matplotlib.pyplot as plt\n",
    "from matplotlib.collections import LineCollection\n",
    "from matplotlib.gridspec import GridSpec\n",
    "%matplotlib inline\n",
    "\n",
    "# These are the \"Tableau 20\" colors as RGB.\n",
    "tableau20 = [(31, 119, 180), (174, 199, 232), (255, 127, 14), (255, 187, 120),\n",
    "             (44, 160, 44), (152, 223, 138), (214, 39, 40), (255, 152, 150),\n",
    "             (148, 103, 189), (197, 176, 213), (140, 86, 75), (196, 156, 148),\n",
    "             (227, 119, 194), (247, 182, 210), (127, 127, 127), (199, 199, 199),\n",
    "             (188, 189, 34), (219, 219, 141), (23, 190, 207), (158, 218, 229)]\n",
    "\n",
    "# Scale the RGB values to the [0, 1] range, which is the format matplotlib accepts.\n",
    "for i in range(len(tableau20)):\n",
    "    r, g, b = tableau20[i]\n",
    "    tableau20[i] = (r / 255., g / 255., b / 255.)\n",
    "    \n",
    "    \n",
    "import os\n",
    "from IPython.display import display, Image, HTML\n",
    "from glob import glob\n",
    "import re"
   ]
  },
  {
   "cell_type": "markdown",
   "metadata": {},
   "source": [
    "\n",
    "## Relaxed phases of BFO"
   ]
  },
  {
   "cell_type": "markdown",
   "metadata": {},
   "source": [
    "Here we consider 5 PBE+U relaxed BFO structures: $R3c$, $Pnma$, $P4mm$, $R\\bar{3}c$ and $Pm\\bar{3}m$. The relaxed structures, in their 40-atom pseudocubic setting can be found here:\n",
    "\n",
    "* $R3c$: `relaxed_structures/structures/r3c_gaf_relaxed.vasp`\n",
    "* $Pnma$: `relaxed_structures/structures/pnma_gaf_relaxed.vasp`\n",
    "* $P4mm$: `relaxed_structures/structures/p4mm_caf_relaxed.vasp`\n",
    "* $R\\bar{3}c$: `relaxed_structures/structures/r-3c_gaf_relaxed.vasp`\n",
    "* $Pm\\bar{3}m$: `relaxed_structures/structures/pm-3m_gaf_relaxed.vasp`\n",
    "\n",
    "Let's use pymatgen to display the structural parameters in a convenient way:"
   ]
  },
  {
   "cell_type": "markdown",
   "metadata": {},
   "source": [
    "### Structures"
   ]
  },
  {
   "cell_type": "markdown",
   "metadata": {},
   "source": [
    "#### $R3c$"
   ]
  },
  {
   "cell_type": "code",
   "execution_count": 187,
   "metadata": {
    "ExecuteTime": {
     "end_time": "2017-12-08T13:12:30.674930Z",
     "start_time": "2017-12-08T13:12:30.649327Z"
    }
   },
   "outputs": [
    {
     "name": "stdout",
     "output_type": "stream",
     "text": [
      "Spacegroup:  ('R3c', 161)\n",
      "Full Formula (Fe8 Bi8 O24)\n",
      "Reduced Formula: FeBiO3\n",
      "abc   :   8.012700   8.012695   8.012695\n",
      "angles:  89.181046  89.181046  89.181046\n",
      "Sites (40)\n",
      "  #  SP           a         b         c\n",
      "---  ----  --------  --------  --------\n",
      "  0  Bi    0.538056  0.538056  0.538059\n",
      "  1  Bi    0.538056  0.038056  0.038059\n",
      "  2  Bi    0.038056  0.038056  0.538059\n",
      "  3  Bi    0.038056  0.538056  0.038059\n",
      "  4  Bi    0.038066  0.038066  0.038066\n",
      "  5  Bi    0.038066  0.538066  0.538066\n",
      "  6  Bi    0.538066  0.538066  0.038066\n",
      "  7  Bi    0.538066  0.038066  0.538066\n",
      "  8  O     0.701291  0.273154  0.499996\n",
      "  9  O     0.701291  0.773154  0.999996\n",
      " 10  O     0.201291  0.773154  0.499996\n",
      " 11  O     0.201291  0.273154  0.999996\n",
      " 12  O     0.273154  0.499993  0.701294\n",
      " 13  O     0.273154  0.999993  0.201294\n",
      " 14  O     0.773154  0.999993  0.701294\n",
      " 15  O     0.773154  0.499993  0.201294\n",
      " 16  O     0.499993  0.701291  0.273157\n",
      " 17  O     0.499993  0.201291  0.773157\n",
      " 18  O     0.999993  0.201291  0.273157\n",
      " 19  O     0.999993  0.701291  0.773157\n",
      " 20  O     0.773157  0.701279  0.500003\n",
      " 21  O     0.773157  0.201279  3e-06\n",
      " 22  O     0.273157  0.201279  0.500003\n",
      " 23  O     0.273157  0.701279  3e-06\n",
      " 24  O     0.5       0.773157  0.701282\n",
      " 25  O     0.5       0.273157  0.201282\n",
      " 26  O     0         0.273157  0.701282\n",
      " 27  O     0         0.773157  0.201282\n",
      " 28  O     0.70128   0.5       0.773161\n",
      " 29  O     0.70128   0         0.273161\n",
      " 30  O     0.20128   0         0.773161\n",
      " 31  O     0.20128   0.5       0.273161\n",
      " 32  Fe    0.758783  0.758783  0.758785\n",
      " 33  Fe    0.758783  0.258783  0.258785\n",
      " 34  Fe    0.258783  0.258783  0.758785\n",
      " 35  Fe    0.258783  0.758783  0.258785\n",
      " 36  Fe    0.25878   0.25878   0.258783\n",
      " 37  Fe    0.25878   0.75878   0.758783\n",
      " 38  Fe    0.75878   0.75878   0.258783\n",
      " 39  Fe    0.75878   0.25878   0.758783\n"
     ]
    }
   ],
   "source": [
    "r3c_struc = Poscar.from_file(\"relaxed_structures/structures/r3c_gaf_relaxed.vasp\").structure\n",
    "print(\"Spacegroup: \",r3c_struc.get_space_group_info())\n",
    "print(r3c_struc)"
   ]
  },
  {
   "cell_type": "markdown",
   "metadata": {},
   "source": [
    "#### $Pnma$"
   ]
  },
  {
   "cell_type": "code",
   "execution_count": 191,
   "metadata": {
    "ExecuteTime": {
     "end_time": "2017-12-08T13:16:05.729513Z",
     "start_time": "2017-12-08T13:16:05.667610Z"
    }
   },
   "outputs": [
    {
     "name": "stdout",
     "output_type": "stream",
     "text": [
      "Spacegroup:  ('Pnma', 62)\n",
      "Full Formula (Fe8 Bi8 O24)\n",
      "Reduced Formula: FeBiO3\n",
      "abc   :   7.925600   7.925600   7.868300\n",
      "angles:  89.999298  89.999298  87.591698\n",
      "Sites (40)\n",
      "  #  SP         a       b       c\n",
      "---  ----  ------  ------  ------\n",
      "  0  Bi    0.5608  0.5424  0.5\n",
      "  1  Bi    0.0608  0.0424  0.5\n",
      "  2  Bi    0.0092  0.4908  0\n",
      "  3  Bi    0.5092  0.9908  0\n",
      "  4  Bi    0       0       0\n",
      "  5  Bi    0.5     0.5     0\n",
      "  6  Bi    0.5516  0.0516  0.5\n",
      "  7  Bi    0.0516  0.5516  0.5\n",
      "  8  O     0.3139  0.7085  0.5\n",
      "  9  O     0.8139  0.2085  0.5\n",
      " 10  O     0.3431  0.2377  0\n",
      " 11  O     0.8431  0.7377  0\n",
      " 12  O     0.7469  0.3339  0\n",
      " 13  O     0.2469  0.8339  0\n",
      " 14  O     0.7177  0.8047  0.5\n",
      " 15  O     0.2177  0.3047  0.5\n",
      " 16  O     0.5323  0.7186  0.7968\n",
      " 17  O     0.0323  0.2186  0.7968\n",
      " 18  O     0.833   0.5193  0.2968\n",
      " 19  O     0.333   0.0193  0.2968\n",
      " 20  O     0.833   0.5193  0.7032\n",
      " 21  O     0.333   0.0193  0.7032\n",
      " 22  O     0.5285  0.3238  0.2968\n",
      " 23  O     0.0285  0.8238  0.2968\n",
      " 24  O     0.0285  0.8238  0.7032\n",
      " 25  O     0.5285  0.3238  0.7032\n",
      " 26  O     0.7278  0.0231  0.2032\n",
      " 27  O     0.2278  0.5231  0.2032\n",
      " 28  O     0.2278  0.5231  0.7968\n",
      " 29  O     0.7278  0.0231  0.7968\n",
      " 30  O     0.0323  0.2186  0.2032\n",
      " 31  O     0.5323  0.7186  0.2032\n",
      " 32  Fe    0.2804  0.7712  0.75\n",
      " 33  Fe    0.7804  0.2712  0.75\n",
      " 34  Fe    0.2804  0.2712  0.25\n",
      " 35  Fe    0.7804  0.7712  0.25\n",
      " 36  Fe    0.7804  0.7712  0.75\n",
      " 37  Fe    0.2804  0.2712  0.75\n",
      " 38  Fe    0.2804  0.7712  0.25\n",
      " 39  Fe    0.7804  0.2712  0.25\n"
     ]
    }
   ],
   "source": [
    "pnma_struc = Poscar.from_file(\"relaxed_structures/structures/pnma_gaf_relaxed.vasp\").structure\n",
    "print(\"Spacegroup: \",pnma_struc.get_space_group_info())\n",
    "print(pnma_struc)"
   ]
  },
  {
   "cell_type": "markdown",
   "metadata": {},
   "source": [
    "#### $P4mm$"
   ]
  },
  {
   "cell_type": "code",
   "execution_count": 192,
   "metadata": {
    "ExecuteTime": {
     "end_time": "2017-12-08T13:16:05.729513Z",
     "start_time": "2017-12-08T13:16:05.667610Z"
    }
   },
   "outputs": [
    {
     "name": "stdout",
     "output_type": "stream",
     "text": [
      "Spacegroup:  ('P4mm', 99)\n",
      "Full Formula (Fe8 Bi8 O24)\n",
      "Reduced Formula: FeBiO3\n",
      "abc   :   7.507463   7.507467   9.756046\n",
      "angles:  90.000000  90.000000  90.000000\n",
      "Sites (40)\n",
      "  #  SP           a         b         c\n",
      "---  ----  --------  --------  --------\n",
      "  0  Bi    0.75      0.25      0.285658\n",
      "  1  Bi    0.75      0.75      0.285658\n",
      "  2  Bi    0.25      0.25      0.785658\n",
      "  3  Bi    0.25      0.75      0.785658\n",
      "  4  Bi    0.75      0.25      0.785658\n",
      "  5  Bi    0.75      0.75      0.785658\n",
      "  6  Bi    0.25      0.25      0.285658\n",
      "  7  Bi    0.25      0.75      0.285658\n",
      "  8  Fe    0         0         0.999361\n",
      "  9  Fe    0         0.5       0.999378\n",
      " 10  Fe    0.5       0         0.499357\n",
      " 11  Fe    0.5       0.5       0.499382\n",
      " 12  Fe    0.5       0         0.999377\n",
      " 13  Fe    0.5       0.5       0.999361\n",
      " 14  Fe    0         0         0.499382\n",
      " 15  Fe    0         0.5       0.499357\n",
      " 16  O     0.749996  0         0.426424\n",
      " 17  O     0.750005  0.5       0.426424\n",
      " 18  O     0.250008  0         0.926424\n",
      " 19  O     0.249992  0.5       0.926424\n",
      " 20  O     0.749992  0         0.926424\n",
      " 21  O     0.750008  0.5       0.926424\n",
      " 22  O     0.250004  0         0.426424\n",
      " 23  O     0.249995  0.5       0.426424\n",
      " 24  O     0         0.250011  0.926423\n",
      " 25  O     0         0.749989  0.926423\n",
      " 26  O     0.5       0.249999  0.426423\n",
      " 27  O     0.5       0.750001  0.426423\n",
      " 28  O     0.5       0.249989  0.926423\n",
      " 29  O     0.5       0.750011  0.926423\n",
      " 30  O     0         0.250001  0.426423\n",
      " 31  O     0         0.749999  0.426423\n",
      " 32  O     0.5       0         0.68871\n",
      " 33  O     0.5       0.5       0.688742\n",
      " 34  O     0         0         0.188738\n",
      " 35  O     0         0.5       0.188714\n",
      " 36  O     0         0         0.688741\n",
      " 37  O     0         0.5       0.68871\n",
      " 38  O     0.5       0         0.188714\n",
      " 39  O     0.5       0.5       0.188737\n"
     ]
    }
   ],
   "source": [
    "p4mm_struc = Poscar.from_file(\"relaxed_structures/structures/p4mm_caf_relaxed.vasp\").structure\n",
    "print(\"Spacegroup: \",p4mm_struc.get_space_group_info())\n",
    "print(p4mm_struc)"
   ]
  },
  {
   "cell_type": "markdown",
   "metadata": {},
   "source": [
    "#### $R\\bar{3}c$"
   ]
  },
  {
   "cell_type": "code",
   "execution_count": 189,
   "metadata": {
    "ExecuteTime": {
     "end_time": "2017-12-08T13:16:05.729513Z",
     "start_time": "2017-12-08T13:16:05.667610Z"
    }
   },
   "outputs": [
    {
     "name": "stdout",
     "output_type": "stream",
     "text": [
      "Spacegroup:  ('R-3c', 167)\n",
      "Full Formula (Fe8 Bi8 O24)\n",
      "Reduced Formula: FeBiO3\n",
      "abc   :   7.893100   7.893100   7.893100\n",
      "angles:  91.076797  91.076797  91.076797\n",
      "Sites (40)\n",
      "  #  SP         a       b       c\n",
      "---  ----  ------  ------  ------\n",
      "  0  Bi    0       0       0.5\n",
      "  1  Bi    0       0.5     0\n",
      "  2  Bi    0.5     0       0\n",
      "  3  Bi    0.5     0.5     0.5\n",
      "  4  Bi    0       0.5     0.5\n",
      "  5  Bi    0       0       0\n",
      "  6  Bi    0.5     0.5     0\n",
      "  7  Bi    0.5     0       0.5\n",
      "  8  O     0.5     0.2081  0.2919\n",
      "  9  O     0.5     0.7081  0.7919\n",
      " 10  O     0       0.2081  0.7919\n",
      " 11  O     0       0.7081  0.2919\n",
      " 12  O     0.2081  0.7919  0\n",
      " 13  O     0.2081  0.2919  0.5\n",
      " 14  O     0.7081  0.7919  0.5\n",
      " 15  O     0.7081  0.2919  0\n",
      " 16  O     0.2919  0       0.7081\n",
      " 17  O     0.2919  0.5     0.2081\n",
      " 18  O     0.7919  0       0.2081\n",
      " 19  O     0.7919  0.5     0.7081\n",
      " 20  O     0.2081  0       0.2919\n",
      " 21  O     0.2081  0.5     0.7919\n",
      " 22  O     0.7081  0       0.7919\n",
      " 23  O     0.7081  0.5     0.2919\n",
      " 24  O     0.2919  0.2081  0\n",
      " 25  O     0.2919  0.7081  0.5\n",
      " 26  O     0.7919  0.2081  0.5\n",
      " 27  O     0.7919  0.7081  0\n",
      " 28  O     0       0.2919  0.2081\n",
      " 29  O     0       0.7919  0.7081\n",
      " 30  O     0.5     0.2919  0.7081\n",
      " 31  O     0.5     0.7919  0.2081\n",
      " 32  Fe    0.25    0.75    0.25\n",
      " 33  Fe    0.25    0.25    0.75\n",
      " 34  Fe    0.75    0.75    0.75\n",
      " 35  Fe    0.75    0.25    0.25\n",
      " 36  Fe    0.75    0.25    0.75\n",
      " 37  Fe    0.75    0.75    0.25\n",
      " 38  Fe    0.25    0.25    0.25\n",
      " 39  Fe    0.25    0.75    0.75\n"
     ]
    }
   ],
   "source": [
    "r_3c_struc = Poscar.from_file(\"relaxed_structures/structures/r-3c_gaf_relaxed.vasp\").structure\n",
    "print(\"Spacegroup: \",r_3c_struc.get_space_group_info())\n",
    "print(r_3c_struc)"
   ]
  },
  {
   "cell_type": "markdown",
   "metadata": {},
   "source": [
    "#### $Pm\\bar{3}m$"
   ]
  },
  {
   "cell_type": "code",
   "execution_count": 188,
   "metadata": {
    "ExecuteTime": {
     "end_time": "2017-12-08T13:16:05.729513Z",
     "start_time": "2017-12-08T13:16:05.667610Z"
    }
   },
   "outputs": [
    {
     "name": "stdout",
     "output_type": "stream",
     "text": [
      "Spacegroup:  ('Pm-3m', 221)\n",
      "Full Formula (Fe8 Bi8 O24)\n",
      "Reduced Formula: FeBiO3\n",
      "abc   :   7.867139   7.867139   7.867139\n",
      "angles:  90.000000  90.000000  90.000000\n",
      "Sites (40)\n",
      "  #  SP       a     b     c\n",
      "---  ----  ----  ----  ----\n",
      "  0  Bi    0     0     0\n",
      "  1  Bi    0     0.5   0\n",
      "  2  Bi    0     0     0.5\n",
      "  3  Bi    0     0.5   0.5\n",
      "  4  Bi    0.5   0.5   0.5\n",
      "  5  Bi    0.5   0     0.5\n",
      "  6  Bi    0.5   0.5   0\n",
      "  7  Bi    0.5   0     0\n",
      "  8  O     0     0.25  0.25\n",
      "  9  O     0     0.75  0.25\n",
      " 10  O     0.75  0.5   0.75\n",
      " 11  O     0.75  0     0.75\n",
      " 12  O     0.75  0.5   0.25\n",
      " 13  O     0.75  0     0.25\n",
      " 14  O     0.75  0.75  0.5\n",
      " 15  O     0.75  0.25  0.5\n",
      " 16  O     0.75  0.75  0\n",
      " 17  O     0.75  0.25  0\n",
      " 18  O     0.25  0     0.75\n",
      " 19  O     0.25  0.5   0.75\n",
      " 20  O     0.5   0.75  0.25\n",
      " 21  O     0.5   0.25  0.25\n",
      " 22  O     0     0.25  0.75\n",
      " 23  O     0     0.75  0.75\n",
      " 24  O     0.25  0.25  0\n",
      " 25  O     0.25  0.75  0\n",
      " 26  O     0.25  0.25  0.5\n",
      " 27  O     0.25  0.75  0.5\n",
      " 28  O     0.25  0     0.25\n",
      " 29  O     0.25  0.5   0.25\n",
      " 30  O     0.5   0.25  0.75\n",
      " 31  O     0.5   0.75  0.75\n",
      " 32  Fe    0.75  0.25  0.25\n",
      " 33  Fe    0.25  0.25  0.75\n",
      " 34  Fe    0.25  0.75  0.25\n",
      " 35  Fe    0.75  0.75  0.75\n",
      " 36  Fe    0.75  0.75  0.25\n",
      " 37  Fe    0.75  0.25  0.75\n",
      " 38  Fe    0.25  0.75  0.75\n",
      " 39  Fe    0.25  0.25  0.25\n"
     ]
    }
   ],
   "source": [
    "pm_3m_struc = Poscar.from_file(\"relaxed_structures/structures/pm-3m_gaf_relaxed.vasp\").structure\n",
    "print(\"Spacegroup: \",pm_3m_struc.get_space_group_info())\n",
    "print(pm_3m_struc)"
   ]
  },
  {
   "cell_type": "markdown",
   "metadata": {},
   "source": [
    "### Band-edge KS orbitals"
   ]
  },
  {
   "cell_type": "markdown",
   "metadata": {},
   "source": [
    "#### Average over all k-points"
   ]
  },
  {
   "cell_type": "markdown",
   "metadata": {
    "ExecuteTime": {
     "end_time": "2017-12-06T18:08:27.007047Z",
     "start_time": "2017-12-06T18:08:26.856991Z"
    }
   },
   "source": [
    "The Kohn-Sham orbitals corresponding to the lowest unoccupied and highest occupied bands, averaged over all k-space, can be found in the directory: `relaxed_structures/ks-orbitals/all_kpoints`.\n"
   ]
  },
  {
   "cell_type": "markdown",
   "metadata": {},
   "source": [
    "#### Special k-points"
   ]
  },
  {
   "cell_type": "markdown",
   "metadata": {
    "ExecuteTime": {
     "end_time": "2017-12-06T18:08:27.007047Z",
     "start_time": "2017-12-06T18:08:26.856991Z"
    }
   },
   "source": [
    "The Kohn-Sham orbitals corresponding to the lowest unoccupied band at the location in k-space of the band minimum are displayed below.\n",
    "\n",
    "These correspond to the files:\n",
    "\n",
    "* $R3c$:    `relaxed_structures/ks-orbitals/key_points/r3c_lumo_R.vasp`\n",
    "* $P4mm$:   `relaxed_structures/ks-orbitals/key_points/p4mm_lumo_G.vasp`\n",
    "* $Pnma$:   `relaxed_structures/ks-orbitals/key_points/pnma_lumo_R.vasp`\n",
    "* $R\\bar{3}c$: `relaxed_structures/ks-orbitals/key_points/r-3c_lumo_R.vasp`\n",
    "* $Pm\\bar{3}m$: `relaxed_structures/ks-orbitals/key_points/pm-3m_lumo_G.vasp`\n"
   ]
  },
  {
   "cell_type": "markdown",
   "metadata": {},
   "source": [
    "##### S1: KS orbitals at conduction band minimum <a class=\"anchor\" id=\"fig-s1\"></a>"
   ]
  },
  {
   "cell_type": "markdown",
   "metadata": {},
   "source": [
    "<table cellspacing=\"20\" style=\"border:0px\">\n",
    "<tbody style=\"border:0px\"><tr style=\"border:0px\">\n",
    "    <td style=\"border:0px\">  <a class=\"reference external\"><img alt=\"KS Orbital for U = 3 eV\" src=\"relaxed_structures/ks-orbitals/key_points/r3c_lumo_R.png\"></a>  <span class=\"raw-html\"></span></td>\n",
    "    <td style=\"border:0px\">  <a class=\"reference external\"><img alt=\"KS Orbital for U = 4 eV\" src=\"relaxed_structures/ks-orbitals/key_points/p4mm_lumo_G.png\"></a>  <span class=\"raw-html\"></span></td>\n",
    "    <td style=\"border:0px\">  <a class=\"reference external\"><img alt=\"KS Orbital for U = 5 eV\" src=\"relaxed_structures/ks-orbitals/key_points/pnma_lumo_R.png\"></a>  <span class=\"raw-html\"></span></td>\n",
    "</tr>\n",
    "<tr style=\"border:0px\">\n",
    "    <td style=\"border:0px\"> $R3c$ </td>\n",
    "    <td style=\"border:0px\"> $P4mm$ </td>\n",
    "    <td style=\"border:0px\"> $Pnma$ </td>\n",
    "</tr>\n",
    "<tr style=\"border:0px\">\n",
    "    <td style=\"border:0px\">  <a class=\"reference external\"><img alt=\"KS Orbital for U = 6 eV\" src=\"relaxed_structures/ks-orbitals/key_points/r-3c_lumo_R.png\"></a>  <span class=\"raw-html\"></span></td>\n",
    "    <td style=\"border:0px\">  <a class=\"reference external\"><img alt=\"KS Orbital for U = 7 eV\" src=\"relaxed_structures/ks-orbitals/key_points/pm-3m_lumo_G.png\"></a>  <span class=\"raw-html\"></span></td>\n",
    "</tr>\n",
    "<tr style=\"border:0px\">\n",
    "    <td style=\"border:0px\"> $R\\bar{3}c$ </td>\n",
    "    <td style=\"border:0px\"> $Pm\\bar{3}m$ </td>\n",
    "\n",
    "</tr>\n",
    "</tbody></table>\n"
   ]
  },
  {
   "cell_type": "markdown",
   "metadata": {},
   "source": [
    "### Effective masses of the relaxed phases"
   ]
  },
  {
   "cell_type": "markdown",
   "metadata": {},
   "source": [
    "The charge carrier effective masses quoted in the paper correspond to the smallest $m^*$ along the 'principle directions'. Here we read in the full effective mass tensors and print out the $m^*$ along different directions to get a sense of the anisotropy in $m^*$. \n",
    "\n",
    "We first define a class that reads in the output of the EMC code written by [Fonari and Sutton.](https://github.com/afonari/emc)\n",
    "\n",
    "The outputs of the EMC code are the effective mass tensor, principle effective masses and principle directions.\n",
    "The principle effective masses are the inverse of the eigenvalues of the effective mass tensor in the output. Equivalently, they are the eigenvalues of the inverse of the reported effective mass tensor. i.e. the reported tensor is in fact the inverse of the effective mass tensor."
   ]
  },
  {
   "cell_type": "code",
   "execution_count": 2,
   "metadata": {
    "ExecuteTime": {
     "end_time": "2018-03-14T12:52:41.783268Z",
     "start_time": "2018-03-14T12:52:41.722252Z"
    }
   },
   "outputs": [],
   "source": [
    "class Emcout:\n",
    "    def __init__(self, filename='emcpy.out'):\n",
    "        re_tensor = re.compile(\"Effective mass tensor\")\n",
    "        re_princ  = re.compile(\"Principle effective masses and directions\")\n",
    "        with open(filename) as f:\n",
    "            for line in f:\n",
    "                if re_tensor.search(line):\n",
    "                    blank=next(f)\n",
    "                    tens1=next(f)\n",
    "                    tens2=next(f)\n",
    "                    tens3=next(f)\n",
    "                if re_princ.search(line):\n",
    "                    blank=next(f)\n",
    "                    m0=float(next(f).split()[-1])\n",
    "                    blank=next(f)\n",
    "                    blank=next(f)\n",
    "                    blank=next(f)\n",
    "                    m1=float(next(f).split()[-1])\n",
    "                    blank=next(f)\n",
    "                    blank=next(f)\n",
    "                    blank=next(f)\n",
    "                    m2=float(next(f).split()[-1])\n",
    "\n",
    "        tensor = np.array([[float(tens1.split()[0]) ,float(tens1.split()[1]), float(tens1.split()[2])],\n",
    "                           [ float(tens2.split()[0]) ,float(tens2.split()[1]), float(tens2.split()[2])],\n",
    "                           [ float(tens3.split()[0]) ,float(tens3.split()[1]), float(tens3.split()[2])]])\n",
    "        principlemasses = np.array([m0, m1, m2])\n",
    "        # Numpy array containing the full effective mass tensor\n",
    "        self.tensor  = tensor\n",
    "        # Principle effective masses\n",
    "        self.principlemasses = principlemasses"
   ]
  },
  {
   "cell_type": "code",
   "execution_count": 12,
   "metadata": {
    "ExecuteTime": {
     "end_time": "2018-03-14T12:56:56.222222Z",
     "start_time": "2018-03-14T12:56:56.216685Z"
    }
   },
   "outputs": [],
   "source": [
    "phases = [\"r3c\",\n",
    "         \"r3c_soc\",\n",
    "         \"r-3c\",\n",
    "         \"pnma\",\n",
    "         \"p4mm\",\n",
    "         \"pm-3m\",\n",
    "         ]\n",
    "\n",
    "titles = [\"$R3c$\",\n",
    "          \"$R3c$ SOC\", # SOC => including spin-orbit coupling\n",
    "          \"$R\\\\bar{3}c$\",\n",
    "          \"$Pnma$\",\n",
    "          \"$P4mm$\",\n",
    "          \"$Pm\\\\bar{3}m$\",\n",
    "         ]"
   ]
  },
  {
   "cell_type": "markdown",
   "metadata": {},
   "source": [
    "#### Hole masses"
   ]
  },
  {
   "cell_type": "code",
   "execution_count": 7,
   "metadata": {
    "ExecuteTime": {
     "end_time": "2018-03-14T12:54:32.693672Z",
     "start_time": "2018-03-14T12:54:32.391390Z"
    }
   },
   "outputs": [],
   "source": [
    "# EMC outputs the _curvature_ tensor\n",
    "vbcurvetensors = [Emcout(\"relaxed_structures/effective_mass_tensors/{}_hole.txt\".format(phase)).tensor for phase in phases]\n",
    "# VBM m* tensors (taking the inverse of the curvature tensor)\n",
    "vbtensors = [np.linalg.inv(tensor) for tensor in vbcurvetensors]"
   ]
  },
  {
   "cell_type": "code",
   "execution_count": 8,
   "metadata": {
    "ExecuteTime": {
     "end_time": "2018-03-14T12:55:25.636016Z",
     "start_time": "2018-03-14T12:55:25.626787Z"
    }
   },
   "outputs": [],
   "source": [
    "x, y, z = np.eye(3)\n",
    "r111 = np.ones(3) / np.sqrt(3.)\n",
    "vbxmasses = [x.dot(tens.dot(x)) for tens in vbtensors]\n",
    "vbymasses = [y.dot(tens.dot(y)) for tens in vbtensors]\n",
    "vbzmasses = [z.dot(tens.dot(z)) for tens in vbtensors]\n",
    "vb111masses = [r111.dot(tens.dot(r111)) for tens in vbtensors]"
   ]
  },
  {
   "cell_type": "code",
   "execution_count": 14,
   "metadata": {
    "ExecuteTime": {
     "end_time": "2018-03-14T12:59:01.907986Z",
     "start_time": "2018-03-14T12:59:01.895626Z"
    }
   },
   "outputs": [
    {
     "name": "stdout",
     "output_type": "stream",
     "text": [
      "| Phase        |   m^*_x (m_0) |   m^*_y (m_0) |   m^*_z (m_0) |   m^*_{111} (m_0) |   m^*_1 (m_0) |   m^*_2 (m_0) |   m^*_3 (m_0) |\n",
      "|:-------------|--------------:|--------------:|--------------:|------------------:|--------------:|--------------:|--------------:|\n",
      "| $R3c$        |        -3.802 |        -0.894 |        -2.513 |            -2.538 |        -4.210 |        -2.331 |        -0.669 |\n",
      "| $R3c$ SOC    |        -4.576 |        -1.075 |        -2.564 |            -4.032 |        -4.950 |        -2.511 |        -0.754 |\n",
      "| $R\\bar{3}c$  |        -0.757 |        -0.749 |        -0.736 |            -0.629 |        -0.812 |        -0.802 |        -0.628 |\n",
      "| $Pnma$       |        -1.870 |        -1.919 |        -1.085 |            -1.396 |        -2.494 |        -1.434 |        -0.947 |\n",
      "| $P4mm$       |        -0.539 |        -0.539 |        -5.152 |            -2.077 |        -5.152 |        -0.539 |        -0.539 |\n",
      "| $Pm\\bar{3}m$ |        -0.339 |        -0.339 |        -0.339 |            -0.339 |        -0.339 |        -0.339 |        -0.339 |\n"
     ]
    }
   ],
   "source": [
    "vb_principle_masses = np.array([np.linalg.eigvals(tens) for tens in vbtensors])\n",
    "vb_principle_masses.sort()\n",
    "\n",
    "headers = [\"Phase\",\n",
    "           \"m^*_x (m_0)\", \"m^*_y (m_0)\", \"m^*_z (m_0)\",\n",
    "           \"m^*_{111} (m_0)\",\n",
    "           \"m^*_1 (m_0)\", \"m^*_2 (m_0)\", \"m^*_3 (m_0)\"]\n",
    "table = zip(titles,\n",
    "            vbxmasses, vbymasses, vbzmasses,\n",
    "            vb111masses,\n",
    "            vb_principle_masses.T[0], vb_principle_masses.T[1], vb_principle_masses.T[2])\n",
    "print(tabulate(table, headers = headers, tablefmt=\"pipe\", floatfmt=\".3f\"))"
   ]
  },
  {
   "cell_type": "markdown",
   "metadata": {},
   "source": [
    "#### Electron masses"
   ]
  },
  {
   "cell_type": "code",
   "execution_count": 15,
   "metadata": {
    "ExecuteTime": {
     "end_time": "2018-03-14T13:00:27.301119Z",
     "start_time": "2018-03-14T13:00:27.293558Z"
    }
   },
   "outputs": [],
   "source": [
    "cbcurvetensors = [Emcout(\"relaxed_structures/effective_mass_tensors/{}_elec.txt\".format(phase)).tensor for phase in phases]\n",
    "# CBM m* tensors (taking the inverse)\n",
    "cbtensors = [np.linalg.inv(tensor) for tensor in cbcurvetensors]"
   ]
  },
  {
   "cell_type": "code",
   "execution_count": 16,
   "metadata": {
    "ExecuteTime": {
     "end_time": "2018-03-14T13:00:29.804941Z",
     "start_time": "2018-03-14T13:00:29.795645Z"
    }
   },
   "outputs": [],
   "source": [
    "x, y, z = np.eye(3)\n",
    "r111 = np.ones(3) / np.sqrt(3.)\n",
    "cbxmasses = [x.dot(tens.dot(x)) for tens in cbtensors]\n",
    "cbymasses = [y.dot(tens.dot(y)) for tens in cbtensors]\n",
    "cbzmasses = [z.dot(tens.dot(z)) for tens in cbtensors]\n",
    "cb111masses = [r111.dot(tens.dot(r111)) for tens in cbtensors]"
   ]
  },
  {
   "cell_type": "code",
   "execution_count": 17,
   "metadata": {
    "ExecuteTime": {
     "end_time": "2018-03-14T13:00:31.400308Z",
     "start_time": "2018-03-14T13:00:31.395525Z"
    }
   },
   "outputs": [],
   "source": [
    "cb_principle_masses = np.array([np.linalg.eigvals(tens) for tens in cbtensors])\n",
    "cb_principle_masses.sort()"
   ]
  },
  {
   "cell_type": "code",
   "execution_count": 19,
   "metadata": {
    "ExecuteTime": {
     "end_time": "2018-03-14T13:01:16.214162Z",
     "start_time": "2018-03-14T13:01:16.205918Z"
    }
   },
   "outputs": [
    {
     "name": "stdout",
     "output_type": "stream",
     "text": [
      "| Phase        |   m^*_x (m_0) |   m^*_y (m_0) |   m^*_z (m_0) |   m^*_{111} (m_0) |   m^*_1 (m_0) |   m^*_2 (m_0) |   m^*_3 (m_0) |\n",
      "|:-------------|--------------:|--------------:|--------------:|------------------:|--------------:|--------------:|--------------:|\n",
      "| $R3c$        |         3.375 |         3.381 |         3.388 |             3.055 |         3.055 |         3.542 |         3.548 |\n",
      "| $R3c$ SOC    |         6.010 |         3.413 |        10.725 |             2.892 |         2.316 |         3.294 |        14.539 |\n",
      "| $R\\bar{3}c$  |         0.736 |         0.728 |         0.720 |             0.367 |         0.367 |         0.907 |         0.910 |\n",
      "| $Pnma$       |         1.224 |         1.242 |         1.205 |             1.055 |         0.991 |         1.027 |         1.653 |\n",
      "| $P4mm$       |         0.334 |         0.334 |         0.469 |             0.379 |         0.334 |         0.334 |         0.469 |\n",
      "| $Pm\\bar{3}m$ |         0.240 |         0.240 |         0.240 |             0.240 |         0.240 |         0.240 |         0.240 |\n"
     ]
    }
   ],
   "source": [
    "headers = [\"Phase\", \"m^*_x (m_0)\", \"m^*_y (m_0)\", \"m^*_z (m_0)\",\n",
    "           \"m^*_{111} (m_0)\", \"m^*_1 (m_0)\", \"m^*_2 (m_0)\", \"m^*_3 (m_0)\"]\n",
    "table = zip(titles, cbxmasses, cbymasses, cbzmasses,\n",
    "            cb111masses, cb_principle_masses.T[0], cb_principle_masses.T[1], cb_principle_masses.T[2])\n",
    "print(tabulate(table, headers = headers, tablefmt=\"pipe\", floatfmt=\".3f\"))"
   ]
  },
  {
   "cell_type": "markdown",
   "metadata": {},
   "source": [
    "## Geometric transformations"
   ]
  },
  {
   "cell_type": "markdown",
   "metadata": {},
   "source": [
    "### Strain"
   ]
  },
  {
   "cell_type": "markdown",
   "metadata": {
    "collapsed": true
   },
   "source": [
    "#### Projected bands and DOS"
   ]
  },
  {
   "cell_type": "markdown",
   "metadata": {},
   "source": [
    "The projected band and DOS figures can all be found at:\n",
    "`transformations/strain/transformations/strain/strain_factor_?.???.png`\n",
    "\n",
    "Three representative figures were chosen out of these to make up Figure 5b in the paper."
   ]
  },
  {
   "cell_type": "markdown",
   "metadata": {},
   "source": [
    "First let's label the images using imagemagick, and turn them into simple animations to better convey the change in the projected bands and DOS w.r.t. isotropic strain:"
   ]
  },
  {
   "cell_type": "code",
   "execution_count": 53,
   "metadata": {
    "ExecuteTime": {
     "end_time": "2017-12-07T12:28:00.052726Z",
     "start_time": "2017-12-07T12:27:57.672360Z"
    }
   },
   "outputs": [],
   "source": [
    "for t in np.arange(0.95, 1.05, 0.02):\n",
    "\n",
    "    label = \"{0:3.0f} \\% strain \".format(100*(t-1))\n",
    "    fin  = \"transformations/strain/strain_factor_{0:2.3f}.png\".format(t)\n",
    "    fout  = \"transformations/strain/strain_factor_{0:2.3f}_labelled.png\".format(t)\n",
    "    ! convert $fin \\\n",
    "          -gravity North   -background White -pointsize 40  -splice 0x14 \\\n",
    "          -annotate +0+50 \"$label\" $fout"
   ]
  },
  {
   "cell_type": "code",
   "execution_count": 54,
   "metadata": {
    "ExecuteTime": {
     "end_time": "2017-12-07T12:28:48.351678Z",
     "start_time": "2017-12-07T12:28:44.743571Z"
    }
   },
   "outputs": [],
   "source": [
    "# -------- Strain pbands and DOS gif -------- #\n",
    "!convert  -layers TrimBounds \\\n",
    "          -loop 0 \\\n",
    "          -delay 80 \\\n",
    "          -dispose previous \\\n",
    "          transformations/strain/strain_factor_?.???_labelled.png \\\n",
    "          transformations/strain/strain.gif"
   ]
  },
  {
   "cell_type": "markdown",
   "metadata": {},
   "source": [
    "##### S2: Projected bands and DOS w.r.t. hydrostatic strain <a class=\"anchor\" id=\"fig-s2\"></a>"
   ]
  },
  {
   "cell_type": "markdown",
   "metadata": {},
   "source": [
    "\n",
    "<img src=\"pbands_legend.png\" alt=\"Projected bands legend\" style=\"width: 100px; float: left;\" />\n",
    "![Projected bands as a function of isotropic strain][strain] \n",
    "\n",
    "[strain]: transformations/strain/strain.gif"
   ]
  },
  {
   "cell_type": "markdown",
   "metadata": {},
   "source": [
    "#### Effective mass"
   ]
  },
  {
   "cell_type": "markdown",
   "metadata": {},
   "source": [
    "Electron and hole effective along the principle directions, for each strain value, are stored in the files `transformations/strain/effective_mass/LUMO.dat` and `transformations/strain/effective_mass/HOMO.dat` respectively. \n",
    "\n",
    "Below we extract and plot the m* as a function of strain, reproducing Figure 5a. in the paper."
   ]
  },
  {
   "cell_type": "markdown",
   "metadata": {},
   "source": [
    "##### S3: Effective mass w.r.t. hydrostatic strain <a class=\"anchor\" id=\"fig-s3\"></a>"
   ]
  },
  {
   "cell_type": "code",
   "execution_count": 83,
   "metadata": {
    "ExecuteTime": {
     "end_time": "2017-12-07T12:45:38.526787Z",
     "start_time": "2017-12-07T12:45:38.143168Z"
    }
   },
   "outputs": [
    {
     "name": "stdout",
     "output_type": "stream",
     "text": [
      "=======================================\n",
      "|Strain (%) | m_e (m_0) | m_h (m_0)   |\n",
      "---------------------------------------\n",
      "|      -5.0 |      2.334|       -1.051|\n",
      "|      -3.0 |      2.575|       -0.831|\n",
      "|      -1.0 |      2.862|       -0.819|\n",
      "|       0.0 |      3.017|       -0.763|\n",
      "|       1.0 |      3.186|       -0.749|\n",
      "|       3.0 |      0.596|       -0.757|\n",
      "|       5.0 |      0.581|       -0.753|\n",
      "=======================================\n"
     ]
    },
    {
     "data": {
      "image/png": "[encoded data removed]",
      "text/plain": [
       "<matplotlib.figure.Figure at 0x11055d320>"
      ]
     },
     "metadata": {},
     "output_type": "display_data"
    }
   ],
   "source": [
    "\n",
    "##############################\n",
    "### --- Import data   ---###\n",
    "holemass = np.loadtxt('transformations/strain/effective_mass/HOMO.dat')\n",
    "electronmass = np.loadtxt('transformations/strain/effective_mass/LUMO.dat')\n",
    "\n",
    "percentstrain = (electronmass[:,0] -1)*100\n",
    "\n",
    "#########################################\n",
    "### --- Plot m* vs percent strain  ---###\n",
    "fig, ax1 = plt.subplots(figsize=(8,4))\n",
    "ax1.plot(percentstrain, electronmass[:,3,],\n",
    "         marker='^',\n",
    "         color=tableau20[4],\n",
    "         label='Electron mass (m$_0$)', markersize=12)\n",
    "ax1.plot(percentstrain, -holemass[:,1],\n",
    "         marker='s',\n",
    "         color=tableau20[0],\n",
    "         label='Hole mass (m$_0$)', markersize=12)\n",
    "\n",
    "ax1.set_xlabel('% strain',fontsize=22)\n",
    "ax1.set_ylabel('abs. effective mass (m$_0$)', fontsize=22)\n",
    "ax1.tick_params(axis='both',\n",
    "                which='major',\n",
    "                labelsize=20,\n",
    "                length=6)\n",
    "ax1.tick_params(axis='both',\n",
    "                which='minor',\n",
    "                labelsize=20,\n",
    "                length=4)\n",
    "\n",
    "# annotate data points \n",
    "ax1.annotate(\n",
    "    \"$\\mathrm{m_{e}^{*}}$\", \n",
    "    xy = (percentstrain[0], electronmass[:,3,][0]), xytext = (25, 20),\n",
    "    textcoords = 'offset points', ha = 'right', va = 'center',\n",
    "    fontsize=22,\n",
    "    color=tableau20[4])\n",
    "ax1.annotate(\n",
    "    \"$\\mathrm{m_{h}^{*}}$\", \n",
    "    xy = (percentstrain[0], -holemass[:,1,][0]), xytext = (25, 20),\n",
    "    textcoords = 'offset points', ha = 'right', va = 'center',\n",
    "    fontsize=22,\n",
    "    color=tableau20[0])\n",
    "\n",
    "ax1.axvline(0.0, linestyle='--',color='0.75')\n",
    "\n",
    "ax1.yaxis.set_ticks_position('left')\n",
    "ax1.xaxis.set_ticks_position('bottom')\n",
    "\n",
    "plt.ylim([0,3.5])\n",
    "# fig.show()\n",
    "########################################\n",
    "# --- neatly print data --- #\n",
    "print(39*\"=\")\n",
    "print(\"|Strain (%) | m_e (m_0) | m_h (m_0)   |\")\n",
    "print(39*\"-\")\n",
    "for i in range(len(percentstrain)):    \n",
    "    print(\"|{0: 10.1f} |{1:11.3f}| {2:12.3f}|\".format(percentstrain[i],\n",
    "                                                      electronmass[:,3,][i],\n",
    "                                                      holemass[:,1,][i]))\n",
    "print(39*\"=\")"
   ]
  },
  {
   "cell_type": "markdown",
   "metadata": {},
   "source": [
    "### Octahedral rotations"
   ]
  },
  {
   "cell_type": "markdown",
   "metadata": {},
   "source": [
    "#### Effective mass & band gaps"
   ]
  },
  {
   "cell_type": "markdown",
   "metadata": {},
   "source": [
    "##### S4: Effective mass w.r.t. octahedral rotation <a class=\"anchor\" id=\"fig-s4\"></a>"
   ]
  },
  {
   "cell_type": "code",
   "execution_count": 98,
   "metadata": {
    "ExecuteTime": {
     "end_time": "2017-12-07T13:07:43.676412Z",
     "start_time": "2017-12-07T13:07:42.813585Z"
    }
   },
   "outputs": [
    {
     "name": "stdout",
     "output_type": "stream",
     "text": [
      "=======================================\n",
      "|Angle (deg) | m_e (m_0) | m_h (m_0)   |\n",
      "---------------------------------------\n",
      "|       0.0 |      0.184|       -0.374|\n",
      "|       2.0 |      0.194|       -0.444|\n",
      "|       4.0 |      0.216|       -0.381|\n",
      "|       6.0 |      0.237|       -0.400|\n",
      "|       8.0 |      0.255|       -0.422|\n",
      "|      10.0 |      0.271|       -0.437|\n",
      "|      12.0 |      0.275|       -0.464|\n",
      "|      14.0 |      0.309|       -0.559|\n",
      "|      16.0 |      0.357|       -0.579|\n",
      "|      18.0 |      0.423|       -0.839|\n",
      "|      20.0 |      0.511|       -0.722|\n",
      "|      22.0 |      0.619|       -0.931|\n",
      "|      24.0 |      0.745|       -1.096|\n",
      "|      26.0 |      0.882|       -1.183|\n",
      "|      28.0 |      1.009|       -1.201|\n",
      "=======================================\n"
     ]
    },
    {
     "data": {
      "text/plain": [
       "(0, 1.4)"
      ]
     },
     "execution_count": 98,
     "metadata": {},
     "output_type": "execute_result"
    },
    {
     "data": {
      "image/png": "[encoded data removed]",
      "text/plain": [
       "<matplotlib.figure.Figure at 0x110867d68>"
      ]
     },
     "metadata": {},
     "output_type": "display_data"
    }
   ],
   "source": [
    "##############################\n",
    "basedir = \"transformations/octahedral_rotations/effective_mass/\"\n",
    "### --- Import data   ---###\n",
    "holemass     = np.loadtxt(basedir + 'vb_mass.dat')\n",
    "holemass_hh  = np.loadtxt(basedir + 'vb_mass_cubic_hh.dat')[0]\n",
    "electronmass = np.loadtxt(basedir + 'cb_mass.dat')\n",
    "angles = list(range(0,30,2))\n",
    "\n",
    "##############################\n",
    "\n",
    "# --- neatly print data --- #\n",
    "print(39*\"=\")\n",
    "print(\"|Angle (deg) | m_e (m_0) | m_h (m_0)   |\")\n",
    "print(39*\"-\")\n",
    "for i in range(len(angles)):    \n",
    "    print(\"|{0: 10.1f} |{1:11.3f}| {2:12.3f}|\".format(angles[i],\n",
    "                                                      electronmass[i],\n",
    "                                                      holemass[i]))\n",
    "print(39*\"=\")\n",
    "\n",
    "\n",
    "##############################\n",
    "### --- Plot m* vs theta.  ---###\n",
    "fig, ax1 = plt.subplots(figsize=(8,4))\n",
    "#Electron\n",
    "ax1.plot(angles, electronmass,\n",
    "         marker='^',\n",
    "         color=tableau20[4],\n",
    "         label='Electron mass (m$_0$)',\n",
    "         markersize=12)\n",
    "#Hole\n",
    "ax1.plot(angles, -holemass,\n",
    "         marker='s',\n",
    "         color=tableau20[0],\n",
    "         label='Hole mass (m$_0$)',\n",
    "         markersize=12)\n",
    "ax1.plot(0.0, -holemass_hh,\n",
    "         marker='s',\n",
    "         color=tableau20[0],\n",
    "         markersize=12)\n",
    "# Annotations\n",
    "ax1.annotate('Light Hole',\n",
    "            xy=(angles[0],-holemass[0]),\n",
    "            xytext=(2, 0.75),\n",
    "            arrowprops=dict(arrowstyle=\"->\",\n",
    "                            connectionstyle=\"arc3\",\n",
    "                           linewidth=1.5),\n",
    "            fontsize=18,\n",
    "            )\n",
    "ax1.annotate('Heavy Hole',\n",
    "            xy=(angles[0],-holemass_hh),\n",
    "            xytext=(0.5, 1.2),\n",
    "            arrowprops=dict(arrowstyle=\"->\",\n",
    "                            connectionstyle=\"arc3\",\n",
    "                           linewidth=1.5),\n",
    "            fontsize=18,\n",
    "            )\n",
    "\n",
    "ax1.annotate(\n",
    "    \"$\\mathrm{m_{e}^{*}}$\", \n",
    "    xy = (angles[-1], electronmass[-1]), xytext = (10, 5),\n",
    "    textcoords = 'offset points', ha = 'left', va = 'center',\n",
    "    fontsize=20,\n",
    "    color=tableau20[4])\n",
    "ax1.annotate(\n",
    "    \"$\\mathrm{m_{h}^{*}}$\", \n",
    "    xy = (angles[-1], -holemass[-1]), xytext = (10, 5),\n",
    "    textcoords = 'offset points', ha = 'left', va = 'center',\n",
    "    fontsize=20,\n",
    "    color=tableau20[0])\n",
    "\n",
    "\n",
    "\n",
    "# axis labels\n",
    "ax1.set_xlabel('Octahedral Rotation Angle, $\\\\theta$ ($^\\circ$)',fontsize=22)\n",
    "ax1.set_ylabel('abs. effective mass\\n (m$_0$)', fontsize=22)\n",
    "\n",
    "# bigger tick labels\n",
    "ax1.tick_params(axis='both', which='major', labelsize=18)\n",
    "ax1.tick_params(axis='both', which='minor', labelsize=10)\n",
    "\n",
    "\n",
    "# DFT relaxed angle\n",
    "ax1.axvline(14.2, linestyle='--',color='0.75')\n",
    "\n",
    "# Experimental range\n",
    "# ax1.axvspan(11, 14, alpha=0.5, color=tableau20[3])\n",
    "\n",
    "# plot limits\n",
    "ax1.set_xlim([-1,31])\n",
    "ax1.set_ylim([0,1.4])\n",
    "\n",
    "##############################\n"
   ]
  },
  {
   "cell_type": "markdown",
   "metadata": {},
   "source": [
    "#### Band gap"
   ]
  },
  {
   "cell_type": "markdown",
   "metadata": {},
   "source": [
    "##### S5: Electronic band gap w.r.t. octahedral rotation <a class=\"anchor\" id=\"fig-s5\"></a>"
   ]
  },
  {
   "cell_type": "code",
   "execution_count": 107,
   "metadata": {
    "ExecuteTime": {
     "end_time": "2017-12-07T13:10:46.542127Z",
     "start_time": "2017-12-07T13:10:46.160310Z"
    }
   },
   "outputs": [
    {
     "data": {
      "text/plain": [
       "(0.5, 2)"
      ]
     },
     "execution_count": 107,
     "metadata": {},
     "output_type": "execute_result"
    },
    {
     "data": {
      "image/png": "[encoded data removed]",
      "text/plain": [
       "<matplotlib.figure.Figure at 0x110582cf8>"
      ]
     },
     "metadata": {},
     "output_type": "display_data"
    }
   ],
   "source": [
    "##############################\n",
    "### --- Import data   ---###\n",
    "bandgaps     = np.loadtxt('transformations/octahedral_rotations/effective_mass/bandgaps_jks.dat')\n",
    "angles = list(range(0,30,2))\n",
    "##############################\n",
    "\n",
    "##############################\n",
    "### --- Plot band gaps vs theta.  ---###\n",
    "fig, ax1 = plt.subplots(figsize=(8,4))\n",
    "#band gap\n",
    "ax1.plot(angles, bandgaps,\n",
    "         marker='o',\n",
    "#          color=tableau20[4],\n",
    "         label='Band gap',\n",
    "         markersize=12)\n",
    "\n",
    "# axis labels\n",
    "ax1.set_xlabel('Octahedral Rotation Angle, $\\\\theta$ ($^\\circ$)',fontsize=22)\n",
    "ax1.set_ylabel('Band gap (eV)', fontsize=22)\n",
    "\n",
    "# bigger tick labels\n",
    "ax1.tick_params(axis='both', which='major', labelsize=18)\n",
    "ax1.tick_params(axis='both', which='minor', labelsize=10)\n",
    "\n",
    "\n",
    "# DFT relaxed angle\n",
    "ax1.axvline(14.2, linestyle='--',color='0.75')\n",
    "\n",
    "# plot limits\n",
    "ax1.set_xlim([-1,31])\n",
    "ax1.set_ylim([0.5,2])\n",
    "\n",
    "##############################"
   ]
  },
  {
   "cell_type": "code",
   "execution_count": null,
   "metadata": {},
   "outputs": [],
   "source": []
  },
  {
   "cell_type": "markdown",
   "metadata": {},
   "source": [
    "#### Projected Bands and DOS with and without spin-orbit coupling"
   ]
  },
  {
   "cell_type": "markdown",
   "metadata": {},
   "source": [
    "The projected band and DOS figures can all be found at:\n",
    "`transformations/octahedral_rotations/rotangle_??/theta_??.png`, for the non-SOC case, and at `transformations/octahedral_rotations/spin_orbit_coupling/SOC_theta_??.png` for the SOC case."
   ]
  },
  {
   "cell_type": "markdown",
   "metadata": {},
   "source": [
    "First let's label the images using imagemagick, and turn them into simple animations to better convey the change in the projected bands and DOS w.r.t. octahedral rotations:"
   ]
  },
  {
   "cell_type": "code",
   "execution_count": null,
   "metadata": {
    "ExecuteTime": {
     "end_time": "2017-12-07T11:24:08.470883Z",
     "start_time": "2017-12-07T11:24:03.547749Z"
    }
   },
   "outputs": [],
   "source": [
    "# -------- No spin-orbit coupling (SOC) -------- #\n",
    "!convert  -layers TrimBounds \\\n",
    "          -loop 0 \\\n",
    "          -delay 80 \\\n",
    "          -dispose previous \\\n",
    "          transformations/octahedral_rotations/rotangle_??/theta_??.png\\\n",
    "          transformations/octahedral_rotations/rotation_pbands.gif\n",
    "            "
   ]
  },
  {
   "cell_type": "code",
   "execution_count": 43,
   "metadata": {
    "ExecuteTime": {
     "end_time": "2017-12-07T11:32:13.318193Z",
     "start_time": "2017-12-07T11:32:07.154353Z"
    }
   },
   "outputs": [],
   "source": [
    "# -------- with SOC -------- #\n",
    "!convert  -layers TrimBounds \\\n",
    "          -loop 0 \\\n",
    "          -delay 80 \\\n",
    "          -dispose previous \\\n",
    "          transformations/octahedral_rotations/spin_orbit_coupling/SOC_theta_??.png\\\n",
    "          transformations/octahedral_rotations/spin_orbit_coupling/SOC_rotation_pbands.gif"
   ]
  },
  {
   "cell_type": "markdown",
   "metadata": {},
   "source": [
    "##### S6: Projected bands and DOS w.r.t. octahedral rotation (with and without SOC) <a class=\"anchor\" id=\"fig-s6\"></a>"
   ]
  },
  {
   "cell_type": "markdown",
   "metadata": {},
   "source": [
    "<img src=\"pbands_legend.png\" alt=\"Projected bands legend\" style=\"width: 100px; float: left;\" />\n",
    "\n",
    "\n",
    "| Without SOC        | Including SOC           |\n",
    "| ------------- |:-------------:|\n",
    "| ![Projected bands as a function of octahedral rotation (no SOC)][no_soc]      | ![Projected bands as a function of octahedral rotation (SOC)][soc] |\n",
    "\n",
    "\n",
    "[no_soc]: transformations/octahedral_rotations/rotation_pbands.gif?2\n",
    "[soc]: transformations/octahedral_rotations/spin_orbit_coupling/SOC_rotation_pbands.gif?2"
   ]
  },
  {
   "cell_type": "markdown",
   "metadata": {},
   "source": [
    "#### Band-edge KS orbitals"
   ]
  },
  {
   "cell_type": "markdown",
   "metadata": {},
   "source": [
    "In addition to the projected band structure, it is also instructive to examine the contribution to the charge density coming from certain bands; i.e. the Kohn-Sham (KS) orbitals. \n",
    "\n",
    "The highest occupied KS orbital for each rotation angle can be found in the files:\n",
    "`transformations/octahedral_rotations/rotangle_??/homo_allk.vasp`.\n",
    "\n",
    "The lowest unoccupied KS orbital for each rotation angle can be found in:\n",
    "`transformations/octahedral_rotations/rotangle_??/lumo_allk.vasp`.\n",
    "\n",
    "They can be opened using `VMD`, `VESTA` etc. VMD has the benefit of being easily scriptable. Using such a vmd script, the following animations were produced:"
   ]
  },
  {
   "cell_type": "markdown",
   "metadata": {},
   "source": [
    "##### S7: Lowest unoccupied and highest occupied KS orbitals w.r.t. octahedral rotation <a class=\"anchor\" id=\"fig-s7\"></a>"
   ]
  },
  {
   "cell_type": "markdown",
   "metadata": {},
   "source": [
    "Here purple, gold and red spheres represent Bi, Fe and O atoms respectively. The KS isosurface is shown as a blue mesh.\n",
    "\n",
    "\n",
    "| Highest occupied KS        | Lowest unoccupied KS          |\n",
    "| ------------- |:-------------:|\n",
    "| ![gif showing HOMO w.r.t octahedral rotations][homo]      | ![gif showing LUMO w.r.t octahedral rotations][lumo] |\n",
    "\n",
    "[homo]: transformations/octahedral_rotations/homo_rotations.gif\n",
    "[lumo]: transformations/octahedral_rotations/lumo_rotations.gif"
   ]
  },
  {
   "cell_type": "markdown",
   "metadata": {},
   "source": [
    "### Octahedral translations"
   ]
  },
  {
   "cell_type": "markdown",
   "metadata": {},
   "source": [
    "#### Projected bands and DOS"
   ]
  },
  {
   "cell_type": "markdown",
   "metadata": {},
   "source": [
    "#####  $\\theta=0^{\\circ}$"
   ]
  },
  {
   "cell_type": "markdown",
   "metadata": {},
   "source": [
    "The images can all be found at:\n",
    "`transformations/octahedral_translations/theta_0/theta0_T_???.png`"
   ]
  },
  {
   "cell_type": "markdown",
   "metadata": {},
   "source": [
    "First let's label the images using imagemagick, and turn them into a simple animation to better convey the change in the projected bands and DOS w.r.t. octahedral translations:"
   ]
  },
  {
   "cell_type": "code",
   "execution_count": 34,
   "metadata": {
    "ExecuteTime": {
     "end_time": "2017-12-07T10:59:07.287042Z",
     "start_time": "2017-12-07T10:59:03.084866Z"
    }
   },
   "outputs": [],
   "source": [
    "for t in range(0,40,4):\n",
    "    dr = 0.62 / 36\n",
    "    label = \"T = {0:2.2f} Å\".format(dr*t)\n",
    "    fin  = \"transformations/octahedral_translations/theta_0/theta0_T_{0:03d}.png\".format(t)\n",
    "    fout = \"transformations/octahedral_translations/theta_0/theta0_T_{0:03d}_labelled.png\".format(t)\n",
    "    ! convert $fin \\\n",
    "          -gravity North   -background White -pointsize 40  -splice 0x14 \\\n",
    "          -annotate +0+50 \"$label\" $fout"
   ]
  },
  {
   "cell_type": "code",
   "execution_count": 36,
   "metadata": {
    "ExecuteTime": {
     "end_time": "2017-12-07T11:00:57.169141Z",
     "start_time": "2017-12-07T11:00:53.986115Z"
    }
   },
   "outputs": [],
   "source": [
    "!convert  -layers TrimBounds -loop 0 \\\n",
    "          -delay 80 \\\n",
    "          -dispose previous \\\n",
    "          transformations/octahedral_translations/theta_0/theta0_T_???_labelled.png \\\n",
    "          transformations/octahedral_translations/theta_0/T_theta0.gif"
   ]
  },
  {
   "cell_type": "markdown",
   "metadata": {},
   "source": [
    "#####  $\\theta=14^{\\circ}$"
   ]
  },
  {
   "cell_type": "markdown",
   "metadata": {},
   "source": [
    "The images can all be found at:\n",
    "`transformations/octahedral_translations/theta_14/theta14_T_??.png`"
   ]
  },
  {
   "cell_type": "markdown",
   "metadata": {},
   "source": [
    "First let's label the images using imagemagick, and turn them into a simple animation to better convey the change in the projected bands and DOS w.r.t. octahedral translations:"
   ]
  },
  {
   "cell_type": "code",
   "execution_count": 37,
   "metadata": {
    "ExecuteTime": {
     "end_time": "2017-12-07T11:06:36.847493Z",
     "start_time": "2017-12-07T11:06:33.312731Z"
    }
   },
   "outputs": [],
   "source": [
    "for t in range(0,40,4):\n",
    "    dr = 0.62 / 36\n",
    "    label = \"T = {0:2.2f} Å\".format(dr*t)\n",
    "    fin  = \"transformations/octahedral_translations/theta_14/theta14_T_{0:02d}.png\".format(t)\n",
    "    fout = \"transformations/octahedral_translations/theta_14/theta14_T_{0:02d}_labelled.png\".format(t)\n",
    "    ! convert $fin \\\n",
    "          -gravity North   -background White -pointsize 40  -splice 0x14 \\\n",
    "          -annotate +0+50 \"$label\" $fout"
   ]
  },
  {
   "cell_type": "code",
   "execution_count": 39,
   "metadata": {
    "ExecuteTime": {
     "end_time": "2017-12-07T11:06:59.900043Z",
     "start_time": "2017-12-07T11:06:57.031917Z"
    }
   },
   "outputs": [],
   "source": [
    "!convert  -layers TrimBounds \\\n",
    "          -loop 0 \\\n",
    "          -delay 80 \\\n",
    "          -dispose previous \\\n",
    "          transformations/octahedral_translations/theta_14/theta14_T_??_labelled.png \\\n",
    "          transformations/octahedral_translations/theta_14/T_theta14.gif"
   ]
  },
  {
   "cell_type": "markdown",
   "metadata": {},
   "source": [
    "##### S8: Projected bands and DOS w.r.t. octahedral translations <a class=\"anchor\" id=\"fig-s8\"></a>"
   ]
  },
  {
   "cell_type": "markdown",
   "metadata": {},
   "source": [
    "<img src=\"pbands_legend.png\" alt=\"Projected bands legend\" style=\"width: 100px; float: left;\" />\n",
    "\n",
    "| $\\theta=0^{\\circ}$        | $\\theta=14^{\\circ}$           |\n",
    "| ------------- |:-------------:|\n",
    "| ![alt text][theta0]      | ![alt text][theta14] |\n",
    "\n",
    "[theta0]: transformations/octahedral_translations/theta_0/T_theta0.gif?4\n",
    "[theta14]: transformations/octahedral_translations/theta_14/T_theta14.gif?4"
   ]
  },
  {
   "cell_type": "markdown",
   "metadata": {},
   "source": [
    "#### Effective mass"
   ]
  },
  {
   "cell_type": "markdown",
   "metadata": {},
   "source": [
    "##### S9: Effective mass w.r.t. octahedral translation <a class=\"anchor\" id=\"fig-s9\"></a>"
   ]
  },
  {
   "cell_type": "code",
   "execution_count": 152,
   "metadata": {
    "ExecuteTime": {
     "end_time": "2017-12-07T13:48:07.162158Z",
     "start_time": "2017-12-07T13:48:06.122011Z"
    }
   },
   "outputs": [
    {
     "data": {
      "image/png": "[encoded data removed]",
      "text/plain": [
       "<matplotlib.figure.Figure at 0x181a22d668>"
      ]
     },
     "metadata": {},
     "output_type": "display_data"
    }
   ],
   "source": [
    "##############################\n",
    "### --- Import data   ---###\n",
    "basedir = \"transformations/octahedral_translations/\"\n",
    "# The equilibrium translation of Fe is:\n",
    "eq_translation = 0.412115 #\\AA\n",
    "# heavy hole\n",
    "holemass0     = np.loadtxt(basedir+'theta_0/effective_mass/vb_mass.dat')[:,1]\n",
    "# light hole\n",
    "holemassLH0     = np.loadtxt(basedir+'theta_0/effective_mass/vb_mass_2.dat')[:,1]\n",
    "electronmass0 = np.loadtxt(basedir+'theta_0/effective_mass/cb_mass.dat')[:,3]\n",
    "bandgaps0     = np.loadtxt(basedir+'theta_0/effective_mass/bandgaps.dat') # jks script\n",
    "\n",
    "holemass14     = np.loadtxt(basedir+'theta_14/effective_mass/vb_mass.dat')[:,1]\n",
    "electronmass14 = np.loadtxt(basedir+'theta_14/effective_mass/cb_mass.dat')[:,3]\n",
    "bandgaps14     = np.loadtxt(basedir+'theta_14/effective_mass/bandgaps.dat') # jks script\n",
    "\n",
    "\n",
    "# [111] translations of octahedra in [\\AA]\n",
    "transs = [ 0.        ,  0.06928203,  0.13856406,  0.2078461 ,  0.27712813,\n",
    "           0.34641016,  0.41569219,  0.48497423,  0.55425626,  0.62353829,]\n",
    "\n",
    "##############################\n",
    "\n",
    "##############################\n",
    "### --- Plot m* vs theta.  ---###\n",
    "fig, [ax1, ax2] = plt.subplots(2,figsize=(8,10), sharex=True)\n",
    "######################\n",
    "# Theta = 0 \n",
    "######################\n",
    "ax1.plot(transs, -holemass0,  marker='d',\n",
    "         color=tableau20[0],\n",
    "         label='Heavy Hole mass (m$_0$)',\n",
    "         markersize=12)\n",
    "ax1.plot(transs, -holemassLH0,marker='s',\n",
    "         color=tableau20[0],\n",
    "         label='Light Hole mass (m$_0$)',\n",
    "         markersize=12)\n",
    "ax1.plot(transs, electronmass0, marker='^',\n",
    "         color=tableau20[4],\n",
    "         label='Electron mass (m$_0$)',\n",
    "         markersize=12)\n",
    "\n",
    "ax1.annotate(\n",
    "    \"$\\mathrm{m_{e}^{*}}$\", \n",
    "    xy = (transs[1], electronmass0[1]), xytext = (-40, -25),\n",
    "    textcoords = 'offset points', ha = 'left', va = 'center',\n",
    "    fontsize=22,\n",
    "    color=tableau20[4])\n",
    "ax1.annotate(\n",
    "    \"$\\mathrm{m_{h}^{*}}$(HH)\", \n",
    "    xy = (transs[1], -holemass0[1]), xytext = (-20, 10),\n",
    "    textcoords = 'offset points', ha = 'center', va = 'bottom',\n",
    "    fontsize=20,\n",
    "    color=tableau20[0])\n",
    "ax1.annotate(\n",
    "    \"$\\mathrm{m_{h}^{*}}$(LH)\", \n",
    "    xy = (transs[1], -holemassLH0[1]), xytext = (-20, 5),\n",
    "    textcoords = 'offset points', ha = 'center', va = 'bottom',\n",
    "    fontsize=20,\n",
    "    color=tableau20[0])\n",
    "\n",
    "ax1.axhline(0.0, linestyle='-',color='0.75')\n",
    "\n",
    "\n",
    "\n",
    "######################\n",
    "# Theta = 14\n",
    "######################\n",
    "ax2.plot(transs, -holemass14,\n",
    "         marker='s',\n",
    "         color=tableau20[0],\n",
    "         label='Hole mass (m$_0$)',\n",
    "         markersize=12)\n",
    "ax2.plot(transs, electronmass14,\n",
    "         marker='^',\n",
    "         color=tableau20[4],\n",
    "         label='Electron mass (m$_0$)',\n",
    "         markersize=12)\n",
    "\n",
    "ax2.annotate(\n",
    "    \"$\\mathrm{m_{e}^{*}}$\", \n",
    "    xy = (transs[-1], electronmass14[-1]), xytext = (-50, -10),\n",
    "    textcoords = 'offset points', ha = 'left', va = 'center',\n",
    "    fontsize=22,\n",
    "    color=tableau20[4])\n",
    "ax2.annotate(\n",
    "    \"$\\mathrm{m_{h}^{*}}$\", \n",
    "    xy = (transs[-1], -holemass14[-1]), xytext = (-20, 25),\n",
    "    textcoords = 'offset points', ha = 'left', va = 'center',\n",
    "    fontsize=22,\n",
    "    color=tableau20[0])\n",
    "\n",
    "for ax in [ax1, ax2]:\n",
    "    ax.tick_params(axis='both', which='major', labelsize=18)\n",
    "    ax.tick_params(axis='both', which='minor', labelsize=10)\n",
    "    # DFT relaxed translation\n",
    "    ax.axvline(eq_translation, linestyle='--',color='0.75')\n",
    "    ax.yaxis.set_ticks_position('left')\n",
    "    ax.xaxis.set_ticks_position('bottom')\n",
    "\n",
    "    \n",
    "    \n",
    "ax1.set_ylim([0,1.0])\n",
    "ax2.set_ylim([0,2.6])\n",
    "ax2.set_xlabel('Octahedral Translation [111] ($\\AA$)',fontsize=20)\n",
    "ax1.set_ylabel('Effective mass (m$_0$)', fontsize=20)\n",
    "ax2.set_ylabel('Effective mass (m$_0$)', fontsize=20)\n",
    "\n",
    "ax1.set_title(\"$\\\\theta=0$\", fontsize=20)\n",
    "ax2.set_title(\"$\\\\theta=14$\", fontsize=20)\n",
    "fig.tight_layout()\n",
    "# plt.savefig('images/m_eff_vs_trans14.pdf',format='pdf', bbox_inches='tight')\n",
    "# fig.show()\n",
    "##############################"
   ]
  },
  {
   "cell_type": "markdown",
   "metadata": {},
   "source": [
    "#### Band gaps"
   ]
  },
  {
   "cell_type": "markdown",
   "metadata": {},
   "source": [
    "##### S10: Electronic band gap w.r.t. octahedral translation <a class=\"anchor\" id=\"fig-s10\"></a>"
   ]
  },
  {
   "cell_type": "code",
   "execution_count": 3,
   "metadata": {
    "ExecuteTime": {
     "end_time": "2018-01-04T12:11:37.887746Z",
     "start_time": "2018-01-04T12:11:36.764816Z"
    }
   },
   "outputs": [
    {
     "data": {
      "image/png": "[encoded data removed]",
      "text/plain": [
       "<matplotlib.figure.Figure at 0x110995e10>"
      ]
     },
     "metadata": {},
     "output_type": "display_data"
    }
   ],
   "source": [
    "# The equilibrium translation of Fe is:\n",
    "eq_translation = 0.412115 #\\AA\n",
    "\n",
    "##############################\n",
    "### --- Import data   ---###\n",
    "basedir = \"transformations/octahedral_translations/\"\n",
    "bandgaps0     = np.loadtxt(basedir+'theta_0/effective_mass/bandgaps.dat') # jks script\n",
    "bandgaps14     = np.loadtxt(basedir+'theta_14/effective_mass/bandgaps.dat') # jks script\n",
    "\n",
    "\n",
    "# [111] translations of octahedra in [\\AA]\n",
    "transs = [ 0.        ,  0.06928203,  0.13856406,  0.2078461 ,  0.27712813,\n",
    "           0.34641016,  0.41569219,  0.48497423,  0.55425626,  0.62353829,]\n",
    "\n",
    "##############################\n",
    "\n",
    "##############################\n",
    "### --- Plot m* vs theta.  ---###\n",
    "fig, ax = plt.subplots(1,figsize=(10,8))\n",
    "######################\n",
    "# Theta = 0 \n",
    "######################\n",
    "ax.plot(transs, bandgaps0,\n",
    "        marker='+',\n",
    "        color=tableau20[8],\n",
    "        label='$\\\\theta = 0$)',\n",
    "        markersize=16)\n",
    "######################\n",
    "# Theta = 14\n",
    "######################\n",
    "ax.plot(transs, bandgaps14,\n",
    "         marker='x',\n",
    "         color=tableau20[10],\n",
    "         label='$\\\\theta=14$)',\n",
    "         markersize=16)\n",
    "# DFT relaxed translation\n",
    "ax.axvline(eq_translation, linestyle='--',color='0.75')\n",
    "\n",
    "\n",
    "ax.tick_params(axis='both', which='major', labelsize=18)\n",
    "ax.tick_params(axis='both', which='minor', labelsize=10)\n",
    "ax.yaxis.set_ticks_position('left')\n",
    "ax.xaxis.set_ticks_position('bottom')\n",
    "ax.set_ylim([0.5,2.5])\n",
    "ax.set_xlabel('Octahedral Translation [111] ($\\AA$)',fontsize=20)\n",
    "ax.set_ylabel('Band gap (eV)', fontsize=20)\n",
    "\n",
    "ax.set_title(\"Band gaps w.r.t translation\", fontsize=20)\n",
    "ax.legend(fontsize=20)\n",
    "fig.tight_layout()\n",
    "##############################"
   ]
  },
  {
   "cell_type": "code",
   "execution_count": null,
   "metadata": {},
   "outputs": [],
   "source": []
  }
 ],
 "metadata": {
  "hide_input": false,
  "kernelspec": {
   "display_name": "Python 3",
   "language": "python",
   "name": "python3"
  },
  "language_info": {
   "codemirror_mode": {
    "name": "ipython",
    "version": 3
   },
   "file_extension": ".py",
   "mimetype": "text/x-python",
   "name": "python",
   "nbconvert_exporter": "python",
   "pygments_lexer": "ipython3",
   "version": "3.6.3"
  },
  "nav_menu": {},
  "toc": {
   "navigate_menu": true,
   "number_sections": true,
   "sideBar": true,
   "threshold": 6,
   "toc_cell": false,
   "toc_section_display": "block",
   "toc_window_display": true
  },
  "toc_position": {
   "height": "876px",
   "left": "0px",
   "right": "1588.67px",
   "top": "138px",
   "width": "435px"
  }
 },
 "nbformat": 4,
 "nbformat_minor": 1
}
